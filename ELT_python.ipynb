{
 "cells": [
  {
   "cell_type": "code",
   "execution_count": 5,
   "id": "4c040539",
   "metadata": {},
   "outputs": [],
   "source": [
    "import pymysql\n",
    "import sys\n",
    "import os\n",
    "import time\n",
    "import pandas as pd\n",
    "from decimal import *\n",
    "import datetime\n",
    "import random\n",
    "import datetime\n",
    "from datetime import date"
   ]
  },
  {
   "cell_type": "raw",
   "id": "7104fb11",
   "metadata": {},
   "source": [
    "!pip3 install pymysql"
   ]
  },
  {
   "cell_type": "raw",
   "id": "0777b101",
   "metadata": {},
   "source": [
    "!pip3 install pandas"
   ]
  },
  {
   "cell_type": "markdown",
   "id": "b5f96e65",
   "metadata": {},
   "source": [
    "# Part 01:Extract"
   ]
  },
  {
   "cell_type": "code",
   "execution_count": 189,
   "id": "54d23fde",
   "metadata": {},
   "outputs": [],
   "source": [
    "# keep logs errors\n",
    "\n",
    "all_logs = []"
   ]
  },
  {
   "cell_type": "markdown",
   "id": "fcbc4ff2",
   "metadata": {},
   "source": [
    "## Database - Source (Local server 1)"
   ]
  },
  {
   "cell_type": "markdown",
   "id": "01c952d5",
   "metadata": {},
   "source": [
    "### Connect To Database"
   ]
  },
  {
   "cell_type": "code",
   "execution_count": 365,
   "id": "7ee3f55c",
   "metadata": {},
   "outputs": [],
   "source": [
    "# execute single\n",
    "# for create the table\n",
    "\n",
    "def execute_query_1(query):\n",
    "    try:\n",
    "        conn = pymysql.connect(host='?',port=3306,user='?',password='?',db='?',charset='utf8')\n",
    "        cur = conn.cursor()\n",
    "        start = time.time()\n",
    "        cur.execute(query) # difference\n",
    "        end = time.time()\n",
    "        print('Time Taken in Seconds : '+str(round(end - start)))\n",
    "        logs = 'Source Read Success! Time Taken in Seconds : '+str(round(end - start))\n",
    "        all_logs.append(logs)\n",
    "        query_result = cur.fetchall()\n",
    "        cur.close()\n",
    "        conn.commit() \n",
    "    except Exception as e:\n",
    "        s = \"Source Read Fail!! UNEXPECTED ERROR: \" + str(sys.exc_info())+\"\\n\"+str(e)+\"\\nError on line {}\".format(sys.exc_info()[-1].tb_lineno)\n",
    "        all_logs.append(s)\n",
    "        print(s)\n",
    "    finally:  \n",
    "        conn.close()\n",
    "    return query_result"
   ]
  },
  {
   "cell_type": "code",
   "execution_count": 366,
   "id": "79cfdd42",
   "metadata": {},
   "outputs": [],
   "source": [
    "query01 = '''\n",
    "select * from Employee; \n",
    "'''"
   ]
  },
  {
   "cell_type": "code",
   "execution_count": 367,
   "id": "6ec4a8ff",
   "metadata": {},
   "outputs": [
    {
     "name": "stdout",
     "output_type": "stream",
     "text": [
      "Time Taken in Seconds : 0\n"
     ]
    }
   ],
   "source": [
    "data = execute_query_1(query01)"
   ]
  },
  {
   "cell_type": "code",
   "execution_count": 368,
   "id": "b7dfe2fc",
   "metadata": {},
   "outputs": [
    {
     "name": "stdout",
     "output_type": "stream",
     "text": [
      "((1, 'Joe', Decimal('70000'), 3), (2, 'Henry', Decimal('80000'), 4), (3, 'Sam', Decimal('60000'), None), (4, 'Max', Decimal('90000'), None))\n"
     ]
    }
   ],
   "source": [
    "print(data)"
   ]
  },
  {
   "cell_type": "markdown",
   "id": "885a6146",
   "metadata": {},
   "source": [
    "# Part 02 - Transform"
   ]
  },
  {
   "cell_type": "markdown",
   "id": "4594fda5",
   "metadata": {},
   "source": [
    "### Data Transform - Data From Source Add Column"
   ]
  },
  {
   "cell_type": "code",
   "execution_count": 376,
   "id": "3e90729b",
   "metadata": {},
   "outputs": [],
   "source": [
    "new_data = []"
   ]
  },
  {
   "cell_type": "code",
   "execution_count": 377,
   "id": "587dec48",
   "metadata": {},
   "outputs": [
    {
     "name": "stdout",
     "output_type": "stream",
     "text": [
      "(1, 'Joe', Decimal('70000'), 3, 'Judy')\n",
      "(2, 'Henry', Decimal('80000'), 4, 'Judy')\n",
      "(3, 'Sam', Decimal('60000'), None, 'Judy')\n",
      "(4, 'Max', Decimal('90000'), None, 'Judy')\n"
     ]
    }
   ],
   "source": [
    "try:\n",
    "    for i in range(0,len(data)):\n",
    "        a = data[i]\n",
    "        a = list(a)\n",
    "        a.insert(4,'Judy')\n",
    "        a = tuple(a)\n",
    "        print(a)\n",
    "        new_data.append(a)\n",
    "except Exception as e:\n",
    "    print('fail')"
   ]
  },
  {
   "cell_type": "code",
   "execution_count": 237,
   "id": "b2b60ef5",
   "metadata": {},
   "outputs": [
    {
     "name": "stdout",
     "output_type": "stream",
     "text": [
      "[(1, 'Joe', Decimal('70000'), 3, 'Judy'), (2, 'Henry', Decimal('80000'), 4, 'Judy'), (3, 'Sam', Decimal('60000'), None, 'Judy'), (4, 'Max', Decimal('90000'), None, 'Judy')]\n"
     ]
    }
   ],
   "source": [
    "print(new_data)"
   ]
  },
  {
   "cell_type": "markdown",
   "id": "32061ee9",
   "metadata": {},
   "source": [
    "# Part 03 - Load"
   ]
  },
  {
   "cell_type": "markdown",
   "id": "802c9a98",
   "metadata": {},
   "source": [
    "## A.Database - target (AWS RDS cloud service)"
   ]
  },
  {
   "cell_type": "markdown",
   "id": "f527c6e4",
   "metadata": {},
   "source": [
    "#### Create Table"
   ]
  },
  {
   "cell_type": "code",
   "execution_count": 343,
   "id": "e26e8ed5",
   "metadata": {},
   "outputs": [],
   "source": [
    "# execute single\n",
    "# for create the table\n",
    "def execute_query_2(query):\n",
    "    try:\n",
    "        conn = pymysql.connect(host='?',port=?,user='?',password='?',db='?',charset='utf8')\n",
    "        cur = conn.cursor()\n",
    "        start = time.time()\n",
    "        cur.execute(query) # difference\n",
    "        end = time.time()\n",
    "        print('Time Taken in Seconds : '+str(round(end - start)))\n",
    "        logs = 'Target Create Success! Time Taken in Seconds : '+str(round(end - start))\n",
    "        all_logs.append(logs)        \n",
    "        records = cur.fetchall()\n",
    "        cur.close()\n",
    "        conn.commit() \n",
    "    except Exception as e:\n",
    "        s = \"Target Create Fail!! UNEXPECTED ERROR: \" + str(sys.exc_info())+\"\\n\"+str(e)+\"\\nError on line {}\".format(sys.exc_info()[-1].tb_lineno)\n",
    "        print(s)\n",
    "        all_logs.append(s)\n",
    "    finally:  \n",
    "        conn.close()\n",
    "    #return records"
   ]
  },
  {
   "cell_type": "code",
   "execution_count": 346,
   "id": "beaa8fe9",
   "metadata": {},
   "outputs": [],
   "source": [
    "query02 = '''\n",
    "Drop Table if exists Employee; \n",
    "'''"
   ]
  },
  {
   "cell_type": "code",
   "execution_count": 347,
   "id": "413b3a3c",
   "metadata": {},
   "outputs": [
    {
     "name": "stdout",
     "output_type": "stream",
     "text": [
      "Time Taken in Seconds : 0\n"
     ]
    }
   ],
   "source": [
    "execute_query_2(query02)"
   ]
  },
  {
   "cell_type": "code",
   "execution_count": 348,
   "id": "bbf060dd",
   "metadata": {},
   "outputs": [],
   "source": [
    "query03 = '''\n",
    "CREATE TABLE Employee (\n",
    "    Id INT PRIMARY KEY,\n",
    "    Name_Id VARCHAR(255) NOT NULL,\n",
    "    Salary NUMERIC,\n",
    "    ManagerId INT,\n",
    "    Validator VARCHAR(255) NOT NULL\n",
    ");\n",
    "'''"
   ]
  },
  {
   "cell_type": "code",
   "execution_count": 349,
   "id": "9898249f",
   "metadata": {},
   "outputs": [
    {
     "name": "stdout",
     "output_type": "stream",
     "text": [
      "Time Taken in Seconds : 0\n"
     ]
    }
   ],
   "source": [
    "execute_query_2(query03)"
   ]
  },
  {
   "cell_type": "markdown",
   "id": "401ee1be",
   "metadata": {},
   "source": [
    "#### Insert Table"
   ]
  },
  {
   "cell_type": "code",
   "execution_count": 350,
   "id": "f3fc1f9a",
   "metadata": {},
   "outputs": [],
   "source": [
    "# execute many\n",
    "# for insert the data\n",
    "def execute_query_2_many(query,data):\n",
    "    try:\n",
    "        conn = pymysql.connect(host='?',port=?,user='?',password='?',db='?',charset='utf8')\n",
    "        cur = conn.cursor()\n",
    "        start = time.time()\n",
    "        cur.executemany(query,data)  # difference\n",
    "        end = time.time()\n",
    "        print('Time Taken in Seconds : '+str(round(end - start)))\n",
    "        logs = 'Target Insert Success! Time Taken in Seconds : '+str(round(end - start))\n",
    "        all_logs.append(logs)        \n",
    "        records = cur.fetchall()\n",
    "        cur.close()\n",
    "        conn.commit() #一定要提交数据!!不然在数据库中是没有数据显示的\n",
    "    except Exception as e:\n",
    "        s = \"Target Insert Fail!! UNEXPECTED ERROR: \" + str(sys.exc_info())+\"\\n\"+str(e)+\"\\nError on line {}\".format(sys.exc_info()[-1].tb_lineno)\n",
    "        print(s)\n",
    "        all_logs.append(s)      \n",
    "    finally:  \n",
    "        conn.close()\n",
    "    #return records"
   ]
  },
  {
   "cell_type": "code",
   "execution_count": 351,
   "id": "eb9dd042",
   "metadata": {},
   "outputs": [],
   "source": [
    "sql = '''\n",
    "INSERT INTO  Employee(\n",
    "    Id,\n",
    "    Name_Id,\n",
    "    Salary,\n",
    "    ManagerId,\n",
    "    Validator\n",
    "    ) VALUES  (%s, %s, %s, %s, %s)\n",
    "'''"
   ]
  },
  {
   "cell_type": "code",
   "execution_count": 352,
   "id": "87fc04a0",
   "metadata": {},
   "outputs": [
    {
     "name": "stdout",
     "output_type": "stream",
     "text": [
      "Time Taken in Seconds : 0\n"
     ]
    }
   ],
   "source": [
    "execute_query_2_many(sql,new_data)"
   ]
  },
  {
   "cell_type": "markdown",
   "id": "07811595",
   "metadata": {},
   "source": [
    "## B.Database - load logs (Local server 2)"
   ]
  },
  {
   "cell_type": "code",
   "execution_count": 372,
   "id": "62932320",
   "metadata": {},
   "outputs": [],
   "source": [
    "new_log = []"
   ]
  },
  {
   "cell_type": "markdown",
   "id": "43b840ed",
   "metadata": {},
   "source": [
    "### Data Transform - Logs data clean"
   ]
  },
  {
   "cell_type": "code",
   "execution_count": 370,
   "id": "7af62ed1",
   "metadata": {},
   "outputs": [
    {
     "name": "stdout",
     "output_type": "stream",
     "text": [
      "['Success! Time Taken in Seconds : 0', 'Success! Time Taken in Seconds : 0', 'Fail!! UNEXPECTED ERROR: (<class \\'pymysql.err.OperationalError\\'>, OperationalError(2003, \"Can\\'t connect to MySQL server on \\'12d7.0.0.1\\' ([Errno 8] nodename nor servname provided, or not known)\"), <traceback object at 0x10851c080>)\\n(2003, \"Can\\'t connect to MySQL server on \\'12d7.0.0.1\\' ([Errno 8] nodename nor servname provided, or not known)\")\\nError on line 6', 'Success! Time Taken in Seconds : 0', 'Target Create Success! Time Taken in Seconds : 0', 'Target Create Success! Time Taken in Seconds : 0', 'Target Insert Success! Time Taken in Seconds : 0', 'Source Read Success! Time Taken in Seconds : 0', 'Source Read Success! Time Taken in Seconds : 0']\n"
     ]
    }
   ],
   "source": [
    "print(all_logs)"
   ]
  },
  {
   "cell_type": "code",
   "execution_count": 371,
   "id": "aab24e62",
   "metadata": {},
   "outputs": [
    {
     "name": "stdout",
     "output_type": "stream",
     "text": [
      "2022-12-09\n"
     ]
    }
   ],
   "source": [
    "today = datetime.date.today()\n",
    "print(today)     # 2021-10-19"
   ]
  },
  {
   "cell_type": "code",
   "execution_count": 373,
   "id": "2505af8d",
   "metadata": {},
   "outputs": [],
   "source": [
    "for j in range(0,len(all_logs)):\n",
    "    a = all_logs[j]\n",
    "    new_log.append({today,a})"
   ]
  },
  {
   "cell_type": "code",
   "execution_count": 374,
   "id": "cab9f5cc",
   "metadata": {},
   "outputs": [
    {
     "name": "stdout",
     "output_type": "stream",
     "text": [
      "[{datetime.date(2022, 12, 9), 'Success! Time Taken in Seconds : 0'}, {datetime.date(2022, 12, 9), 'Success! Time Taken in Seconds : 0'}, {datetime.date(2022, 12, 9), 'Fail!! UNEXPECTED ERROR: (<class \\'pymysql.err.OperationalError\\'>, OperationalError(2003, \"Can\\'t connect to MySQL server on \\'12d7.0.0.1\\' ([Errno 8] nodename nor servname provided, or not known)\"), <traceback object at 0x10851c080>)\\n(2003, \"Can\\'t connect to MySQL server on \\'12d7.0.0.1\\' ([Errno 8] nodename nor servname provided, or not known)\")\\nError on line 6'}, {datetime.date(2022, 12, 9), 'Success! Time Taken in Seconds : 0'}, {'Target Create Success! Time Taken in Seconds : 0', datetime.date(2022, 12, 9)}, {'Target Create Success! Time Taken in Seconds : 0', datetime.date(2022, 12, 9)}, {datetime.date(2022, 12, 9), 'Target Insert Success! Time Taken in Seconds : 0'}, {'Source Read Success! Time Taken in Seconds : 0', datetime.date(2022, 12, 9)}, {'Source Read Success! Time Taken in Seconds : 0', datetime.date(2022, 12, 9)}]\n"
     ]
    }
   ],
   "source": [
    "print(new_log)"
   ]
  },
  {
   "cell_type": "markdown",
   "id": "565212dd",
   "metadata": {},
   "source": [
    "### Create Table "
   ]
  },
  {
   "cell_type": "code",
   "execution_count": 378,
   "id": "dd4a3376",
   "metadata": {},
   "outputs": [],
   "source": [
    "# execute single\n",
    "# for create the table\n",
    "\n",
    "def execute_query_log(query):\n",
    "    try:\n",
    "        conn = pymysql.connect(host='?',port=?,user='?',password='?',db='?',charset='utf8')\n",
    "        cur = conn.cursor()\n",
    "        start = time.time()\n",
    "        cur.execute(query) # difference\n",
    "        end = time.time()\n",
    "        print('Time Taken in Seconds : '+str(round(end - start)))\n",
    "        logs = 'Success! Time Taken in Seconds : '+str(round(end - start))\n",
    "        all_logs.append(logs)\n",
    "        query_result = cur.fetchall()\n",
    "        cur.close()\n",
    "        conn.commit() #一定要提交数据!!不然在数据库中是没有数据显示的\n",
    "    except Exception as e:\n",
    "        s = \"Fail!! UNEXPECTED ERROR: \" + str(sys.exc_info())+\"\\n\"+str(e)+\"\\nError on line {}\".format(sys.exc_info()[-1].tb_lineno)\n",
    "        all_logs.append(s)\n",
    "        print(s)\n",
    "    finally:  \n",
    "        conn.close()\n",
    "    #return query_result"
   ]
  },
  {
   "cell_type": "code",
   "execution_count": 379,
   "id": "826f1cba",
   "metadata": {},
   "outputs": [],
   "source": [
    "query04 = '''\n",
    "Drop Table if exists Logs; \n",
    "'''"
   ]
  },
  {
   "cell_type": "code",
   "execution_count": 380,
   "id": "3240d839",
   "metadata": {},
   "outputs": [
    {
     "name": "stdout",
     "output_type": "stream",
     "text": [
      "Time Taken in Seconds : 0\n"
     ]
    }
   ],
   "source": [
    "execute_query_log(query04)"
   ]
  },
  {
   "cell_type": "code",
   "execution_count": 381,
   "id": "403c52e6",
   "metadata": {},
   "outputs": [],
   "source": [
    "query05 = '''\n",
    "CREATE TABLE log (\n",
    "    date VARCHAR(255),\n",
    "    status VARCHAR(255)\n",
    ");\n",
    "'''"
   ]
  },
  {
   "cell_type": "code",
   "execution_count": 382,
   "id": "3e7bbc43",
   "metadata": {},
   "outputs": [
    {
     "name": "stdout",
     "output_type": "stream",
     "text": [
      "Time Taken in Seconds : 0\n"
     ]
    }
   ],
   "source": [
    "execute_query_log(query05)"
   ]
  },
  {
   "cell_type": "markdown",
   "id": "08da54c3",
   "metadata": {},
   "source": [
    "### Insert Table "
   ]
  },
  {
   "cell_type": "code",
   "execution_count": 383,
   "id": "0bb29b91",
   "metadata": {},
   "outputs": [],
   "source": [
    "# execute many\n",
    "# for insert the data\n",
    "def execute_query_3_many(query,data):\n",
    "    try:\n",
    "        conn = pymysql.connect(host='127.0.0.1',port=3306,user='root',password='!Zaleoc2ouiougi',db='test02',charset='utf8')\n",
    "        cur = conn.cursor()\n",
    "        start = time.time()\n",
    "        cur.executemany(query,data)  # difference\n",
    "        end = time.time()\n",
    "        print('Time Taken in Seconds : '+str(round(end - start)))\n",
    "        logs = 'Target Insert Success! Time Taken in Seconds : '+str(round(end - start))\n",
    "        all_logs.append(logs)        \n",
    "        records = cur.fetchall()\n",
    "        cur.close()\n",
    "        conn.commit() #一定要提交数据!!不然在数据库中是没有数据显示的\n",
    "    except Exception as e:\n",
    "        s = \"Target Insert Fail!! UNEXPECTED ERROR: \" + str(sys.exc_info())+\"\\n\"+str(e)+\"\\nError on line {}\".format(sys.exc_info()[-1].tb_lineno)\n",
    "        print(s)\n",
    "        all_logs.append(s)      \n",
    "    finally:  \n",
    "        conn.close()\n",
    "    #return records"
   ]
  },
  {
   "cell_type": "code",
   "execution_count": 384,
   "id": "ce8db178",
   "metadata": {},
   "outputs": [],
   "source": [
    "sql2 = '''\n",
    "INSERT INTO  log(\n",
    "    date,\n",
    "    status\n",
    "    ) VALUES  (%s, %s)\n",
    "'''"
   ]
  },
  {
   "cell_type": "code",
   "execution_count": null,
   "id": "e5a644af",
   "metadata": {},
   "outputs": [],
   "source": [
    "execute_query_3_many(sql2,new_log)"
   ]
  }
 ],
 "metadata": {
  "kernelspec": {
   "display_name": "Python 3 (ipykernel)",
   "language": "python",
   "name": "python3"
  },
  "language_info": {
   "codemirror_mode": {
    "name": "ipython",
    "version": 3
   },
   "file_extension": ".py",
   "mimetype": "text/x-python",
   "name": "python",
   "nbconvert_exporter": "python",
   "pygments_lexer": "ipython3",
   "version": "3.10.6"
  }
 },
 "nbformat": 4,
 "nbformat_minor": 5
}
